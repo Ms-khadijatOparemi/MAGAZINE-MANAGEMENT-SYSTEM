{
  "nbformat": 4,
  "nbformat_minor": 0,
  "metadata": {
    "colab": {
      "provenance": []
    },
    "kernelspec": {
      "name": "python3",
      "display_name": "Python 3"
    },
    "language_info": {
      "name": "python"
    }
  },
  "cells": [
    {
      "cell_type": "markdown",
      "source": [
        "#PYTHON OOP PROJECT\n",
        "\n",
        "__ONLINE MAGAZINE MANAGEMENT SYSTEM__\n",
        "\n",
        "__By: Khadijat Oparemi and Salome Uwah__\n",
        "\n",
        "\n",
        "__Project Description__\n",
        "\n",
        "The aim of the project to is to build an online magazine management system where users can create account, log in, and personalize their reading preferences, and Authors can submit artcle, and editors can review and publish them.\n",
        "\n",
        "__Classes__\n",
        
        "1. Subscriber\n",
        "-Properties: name, email, birth_year, password, subscription_type, category\n",
        "\n",
        "-Methods: authenticate, upgradeSubscriptionName, personalizePreferences\n",
        "\n",
        "\n",
        "2. Subscription:\n",
        "\n",
        "-Properties: subscription_id, subscriptionName, num_subscribers\n",
        "\n",
        "-Methods: Signup\n",
        "\n",
        "\n",
        "3. Article:\n",
        "\n",
        "-Properties: title, content, author, publication_date\n",
        "\n",
        "-Methods: Submit, review, publish"
      ],
      "metadata": {
        "id": "DUz4utdNGVEI"
      }
    },
    {
      "cell_type": "code",
      "source": [
        "#Define Subscriber class which represents the User's unique identifiers\n",
        "class Subscriber:\n",
        "    def __init__(self, name, email, birth_year, password, subscription_type, category):\n",
        "        self.name = name\n",
        "        self.email = email\n",
        "        self._birth_year = birth_year\n",
        "        self.__password = password\n",
        "        self.subscription_type = subscription_type\n",
        "        self.category = category\n",
        "\n",
        " #Authenticate user befor they can sign-in\n",
        "    def authenticate(self, entered_password):\n",
        "        Subscriber= input('Enter your username')\n",
        "        password = input('Enter your password')\n",
        "        if (Subscriber==self.name) and (entered_password == self.password):\n",
        "            print(f'{self.name} authenticated')\n",
        "        else:\n",
        "            print('please check and enter valid username and password')\n",
        "\n",
        "#SignUp to a new supscriptionName\n",
        "    def signUpsubscription_type(self, new_subscription_type):\n",
        "        self.subscription_type = new_subscription_type\n",
        "        print(f'{self.name} subscription upgraded: {new_subscription_type}')\n",
        "\n",
        "#Customize preferences\n",
        "    def personalizePreferences(self, new_category):\n",
        "        self.preferences = new_preferences\n",
        "        print(f'{self.name} preferences updated: {new_category}')\n",
        "\n",
        "    def display(self):\n",
        "        print(f'Name: {self.name}')\n",
        "        print(f'Email: {self.email}')\n",
        "        print(f'Birth Year: {self._birth_year}')\n",
        "        print(f'Subscription Name: {self.subscription_type}')\n",
        "        print(f'Preferences: {self.category}')\n",
        "\n",
        "\n",
        "#Define the subscription Class representing the Type of Subscription available e.g News letter, Digital Copy\n",
        "class Subscription:\n",
        "    def __init__(self, subscription_id, subscription_type, num_subscribers):\n",
        "        self.subscription_id = subscription_id\n",
        "        self.subscription_type = subscription_type\n",
        "        self.num_subscribers = num_subscribers\n",
        "        self.enrolled_subscribers = []\n",
        "\n",
        "    def subSignup(self, subscriber):\n",
        "        self.enrolled_subscribers.append(subscriber)\n",
        "        print(f'{subscriber.name} subscribes to {self.subscription_type}')\n",
        "\n",
        "\n",
        "\n",
        "\n",
        "    def display(self):\n",
        "        print(f'Subscription ID: {self.subscription_id}')\n",
        "        print(f'Subscription Name: {self.subscription_type}')\n",
        "        print(f'Enrolled Subscribers: {\", \".join([sub.name for sub in self.enrolled_subscribers])}')\n"
      ],
      "metadata": {
        "id": "folKVOI3-436"
      },
      "execution_count": null,
      "outputs": []
    },
    {
      "cell_type": "code",
      "source": [
        "#Define  Article class to represent content to  post\n",
        "class Article:\n",
        "    def __init__(self, title, content, author, publication_date = 0):\n",
        "        self.title = title\n",
        "        self.content = content\n",
        "        self.author = author\n",
        "        self.publication_date = publication_date\n",
        "\n",
        "    def submit(self, title, content):\n",
        "        self.title = title\n",
        "        self.content = content\n",
        "        print('Submission Successfully Submitted on:')\n",
        "\n",
        "\n",
        "    def review(self):\n",
        "        if self.content:\n",
        "            print(f'{self.title} Approved for Publication')\n",
        "\n",
        "\n",
        "    def publish(self):\n",
        "        self.content = True\n",
        "        self.publication_date = input(f'{self.title} to be published on: ')\n",
        "\n",
        "    def display(self):\n",
        "        print(f'Article Title: {self.title}')\n",
        "        print(f'Article Content: {self.content}')\n",
        "        print(f'Article Author: {self.author}')\n",
        "        print(f'Article Publication Date: {self.publication_date}')\n",
        "\n",
        "\n"
      ],
      "metadata": {
        "id": "7noEZkOzyQuU"
      },
      "execution_count": null,
      "outputs": []
    },
    {
      "cell_type": "markdown",
      "source": [
        "__USAGE EXAMPLE__"
      ],
      "metadata": {
        "id": "RhMnxX3IVke4"
      }
    },
    {
      "cell_type": "code",
      "source": [
        "user1 = Subscriber('Funsho', 'funsho.layo@gmail.com', 2002,'Fn34@ln2', 'News Letter','Culture')\n",
        "user2 = Subscriber('James', 'james.Mayor@gmail.com', 1994,'mes#yor5', 'Digital Copy','Sport')\n",
        "user3 = Subscriber('Peju', 'peju_sexxy@gmail.com', 2000, 'sexxy_02', 'Digital Copy','LifeStyle')\n",
        "\n",
        "\n",
        "sub1 = Subscription('MW01','News Letter', 1)\n",
        "sub2 = Subscription('MW02','Digital Copy',2)"
      ],
      "metadata": {
        "id": "fEcA0wMc_YKY"
      },
      "execution_count": null,
      "outputs": []
    },
    {
      "cell_type": "code",
      "source": [
        "Artc1 = Article('My Surrogacy Thoughts', 'It is safe to say most women want to have children...', 'Khadijat Ojo', '4:6:2021')\n",
        "Artc2 = Article('Excel Project Showcase', 'In evaluating the Excel project, the grading criteria as mentioned...', 'Kemi Kane', '10:12:2023')\n",
        "Artc3 = Article('Matriarchy on Call', 'Ladi is wonder embodied in a petite kinetic frame. Swift, decisive and brash.', 'Salome Cole')\n",
        "\n"
      ],
      "metadata": {
        "id": "S6lwiymQ_qdd"
      },
      "execution_count": null,
      "outputs": []
    },
    {
      "cell_type": "code",
      "source": [
        "sub1.subSignup(user1)\n",
        "sub1.subSignup(user2)\n",
        "sub1.subSignup(user3)"
      ],
      "metadata": {
        "colab": {
          "base_uri": "https://localhost:8080/"
        },
        "id": "9qzmMHhQ_xed",
        "outputId": "3b09d872-4791-48e6-b48f-cf84b8f8fba3"
      },
      "execution_count": null,
      "outputs": [
        {
          "output_type": "stream",
          "name": "stdout",
          "text": [
            "Funsho subscribes to News Letter\n",
            "James subscribes to News Letter\n",
            "Peju subscribes to News Letter\n"
          ]
        }
      ]
    },
    {
      "cell_type": "code",
      "source": [
        "sub2.subSignup(user2)\n",
        "sub2.subSignup(user3)"
      ],
      "metadata": {
        "colab": {
          "base_uri": "https://localhost:8080/"
        },
        "id": "FUfWjVHT_8PU",
        "outputId": "f8c46b6c-593d-4fe8-e59b-1a6b45c36ad1"
      },
      "execution_count": null,
      "outputs": [
        {
          "output_type": "stream",
          "name": "stdout",
          "text": [
            "James subscribes to Digital Copy\n",
            "Peju subscribes to Digital Copy\n"
          ]
        }
      ]
    },
    {
      "cell_type": "code",
      "source": [
        "user1.display()\n",
        "user2.display()\n",
        "user3.display()"
      ],
      "metadata": {
        "colab": {
          "base_uri": "https://localhost:8080/"
        },
        "id": "es9cGa52ACSC",
        "outputId": "b8747d91-f638-475e-d5dc-cd5ffda9412b"
      },
      "execution_count": null,
      "outputs": [
        {
          "output_type": "stream",
          "name": "stdout",
          "text": [
            "Name: Funsho\n",
            "Email: funsho.layo@gmail.com\n",
            "Birth Year: 2002\n",
            "Subscription Name: News Letter\n",
            "Preferences: Culture\n",
            "Name: James\n",
            "Email: james.Mayor@gmail.com\n",
            "Birth Year: 1994\n",
            "Subscription Name: Digital Copy\n",
            "Preferences: Sport\n",
            "Name: Peju\n",
            "Email: peju_sexxy@gmail.com\n",
            "Birth Year: 2000\n",
            "Subscription Name: Digital Copy\n",
            "Preferences: LifeStyle\n"
          ]
        }
      ]
    },
    {
      "cell_type": "code",
      "source": [
        "sub1.display()\n",
        "sub2.display()"
      ],
      "metadata": {
        "colab": {
          "base_uri": "https://localhost:8080/"
        },
        "id": "EUIPT8k_AGFu",
        "outputId": "8fd9b9c6-1705-4457-bad7-715f0eeae844"
      },
      "execution_count": null,
      "outputs": [
        {
          "output_type": "stream",
          "name": "stdout",
          "text": [
            "Subscription ID: MW01\n",
            "Subscription Name: News Letter\n",
            "Enrolled Subscribers: \n",
            "Subscription ID: MW02\n",
            "Subscription Name: Digital Copy\n",
            "Enrolled Subscribers: \n"
          ]
        }
      ]
    },
    {
      "cell_type": "code",
      "source": [
        "Artc1.display()\n",
        "Artc2.display()"
      ],
      "metadata": {
        "colab": {
          "base_uri": "https://localhost:8080/"
        },
        "id": "oXDqZgpHAUVE",
        "outputId": "50cf4bf0-446a-4ca9-dff6-fe72c98664a0"
      },
      "execution_count": null,
      "outputs": [
        {
          "output_type": "stream",
          "name": "stdout",
          "text": [
            "Article Title: My Surrogacy Thoughts\n",
            "Article Content: It is safe to say most women want to have children...\n",
            "Article Author: Khadijat Ojo\n",
            "Article Publication Date: 4:6:2021\n",
            "Article Title: Excel Project Showcase\n",
            "Article Content: In evaluating the Excel project, the grading criteria as mentioned...\n",
            "Article Author: Kemi Kane\n",
            "Article Publication Date: 10:12:2023\n"
          ]
        }
      ]
    },
    {
      "cell_type": "code",
      "source": [
        "Artc3.display()"
      ],
      "metadata": {
        "colab": {
          "base_uri": "https://localhost:8080/"
        },
        "id": "FW44pykNArQ1",
        "outputId": "d907ee0f-ea57-478c-a4b8-6f25cff82358"
      },
      "execution_count": null,
      "outputs": [
        {
          "output_type": "stream",
          "name": "stdout",
          "text": [
            "Article Title: Matriarchy on Call\n",
            "Article Content: Ladi is wonder embodied in a petite kinetic frame. Swift, decisive and brash.\n",
            "Article Author: Salome Cole\n",
            "Article Publication Date: 0\n"
          ]
        }
      ]
    }
  ]
}
